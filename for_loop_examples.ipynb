{
 "cells": [
  {
   "cell_type": "markdown",
   "metadata": {},
   "source": [
    "For loops are generally used when you have a block of code which you want to repeat a fixed number of times. The Python for statement iterates over the members of a sequence in order, executing the block each time. \n",
    "The for loop does not require an indexing variable to set beforehand"
   ]
  },
  {
   "cell_type": "code",
   "execution_count": 2,
   "metadata": {},
   "outputs": [
    {
     "name": "stdout",
     "output_type": "stream",
     "text": [
      "English\n",
      "Swahili\n",
      "Luhya\n"
     ]
    }
   ],
   "source": [
    "languages= ['English', 'Swahili', 'Luhya']\n",
    "\n",
    "for x in languages:\n",
    "    print(x)"
   ]
  },
  {
   "cell_type": "code",
   "execution_count": 3,
   "metadata": {},
   "outputs": [
    {
     "name": "stdout",
     "output_type": "stream",
     "text": [
      "We're on time 0\n",
      "We're on time 1\n",
      "We're on time 2\n"
     ]
    }
   ],
   "source": [
    "for x in range(0, 3):\n",
    "    print(\"We're on time %d\" %(x))"
   ]
  },
  {
   "cell_type": "markdown",
   "metadata": {},
   "source": [
    "Whenever you have a list of lists i.e. an iteratable object within an iteratable object, nested loops/nested for loops could be relied upon to enable for the different blocks of code to be run at differing n times."
   ]
  },
  {
   "cell_type": "code",
   "execution_count": 5,
   "metadata": {},
   "outputs": [
    {
     "name": "stdout",
     "output_type": "stream",
     "text": [
      "1 * 1 = 1\n",
      "1 * 2 = 2\n",
      "1 * 3 = 3\n",
      "1 * 4 = 4\n",
      "1 * 5 = 5\n",
      "1 * 6 = 6\n",
      "1 * 7 = 7\n",
      "1 * 8 = 8\n",
      "1 * 9 = 9\n",
      "1 * 10 = 10\n",
      "2 * 1 = 2\n",
      "2 * 2 = 4\n",
      "2 * 3 = 6\n",
      "2 * 4 = 8\n",
      "2 * 5 = 10\n",
      "2 * 6 = 12\n",
      "2 * 7 = 14\n",
      "2 * 8 = 16\n",
      "2 * 9 = 18\n",
      "2 * 10 = 20\n",
      "3 * 1 = 3\n",
      "3 * 2 = 6\n",
      "3 * 3 = 9\n",
      "3 * 4 = 12\n",
      "3 * 5 = 15\n",
      "3 * 6 = 18\n",
      "3 * 7 = 21\n",
      "3 * 8 = 24\n",
      "3 * 9 = 27\n",
      "3 * 10 = 30\n",
      "4 * 1 = 4\n",
      "4 * 2 = 8\n",
      "4 * 3 = 12\n",
      "4 * 4 = 16\n",
      "4 * 5 = 20\n",
      "4 * 6 = 24\n",
      "4 * 7 = 28\n",
      "4 * 8 = 32\n",
      "4 * 9 = 36\n",
      "4 * 10 = 40\n",
      "5 * 1 = 5\n",
      "5 * 2 = 10\n",
      "5 * 3 = 15\n",
      "5 * 4 = 20\n",
      "5 * 5 = 25\n",
      "5 * 6 = 30\n",
      "5 * 7 = 35\n",
      "5 * 8 = 40\n",
      "5 * 9 = 45\n",
      "5 * 10 = 50\n",
      "6 * 1 = 6\n",
      "6 * 2 = 12\n",
      "6 * 3 = 18\n",
      "6 * 4 = 24\n",
      "6 * 5 = 30\n",
      "6 * 6 = 36\n",
      "6 * 7 = 42\n",
      "6 * 8 = 48\n",
      "6 * 9 = 54\n",
      "6 * 10 = 60\n",
      "7 * 1 = 7\n",
      "7 * 2 = 14\n",
      "7 * 3 = 21\n",
      "7 * 4 = 28\n",
      "7 * 5 = 35\n",
      "7 * 6 = 42\n",
      "7 * 7 = 49\n",
      "7 * 8 = 56\n",
      "7 * 9 = 63\n",
      "7 * 10 = 70\n",
      "8 * 1 = 8\n",
      "8 * 2 = 16\n",
      "8 * 3 = 24\n",
      "8 * 4 = 32\n",
      "8 * 5 = 40\n",
      "8 * 6 = 48\n",
      "8 * 7 = 56\n",
      "8 * 8 = 64\n",
      "8 * 9 = 72\n",
      "8 * 10 = 80\n",
      "9 * 1 = 9\n",
      "9 * 2 = 18\n",
      "9 * 3 = 27\n",
      "9 * 4 = 36\n",
      "9 * 5 = 45\n",
      "9 * 6 = 54\n",
      "9 * 7 = 63\n",
      "9 * 8 = 72\n",
      "9 * 9 = 81\n",
      "9 * 10 = 90\n",
      "10 * 1 = 10\n",
      "10 * 2 = 20\n",
      "10 * 3 = 30\n",
      "10 * 4 = 40\n",
      "10 * 5 = 50\n",
      "10 * 6 = 60\n",
      "10 * 7 = 70\n",
      "10 * 8 = 80\n",
      "10 * 9 = 90\n",
      "10 * 10 = 100\n"
     ]
    }
   ],
   "source": [
    "for x in range(1, 11):\n",
    "    for y in range(1, 11):\n",
    "        print('%d * %d = %d' % (x, y, x * y))"
   ]
  },
  {
   "cell_type": "code",
   "execution_count": 6,
   "metadata": {},
   "outputs": [
    {
     "name": "stdout",
     "output_type": "stream",
     "text": [
      "b\n",
      "a\n",
      "n\n",
      "a\n",
      "n\n",
      "a\n"
     ]
    }
   ],
   "source": [
    "for x in \"banana\": \n",
    "    print(x)"
   ]
  },
  {
   "cell_type": "markdown",
   "metadata": {},
   "source": [
    "The break Statement is used to stop the loop before it has looped through all the items. The piece of code in the next cell will exit the loop when x is \"dior\"."
   ]
  },
  {
   "cell_type": "code",
   "execution_count": 7,
   "metadata": {},
   "outputs": [
    {
     "name": "stdout",
     "output_type": "stream",
     "text": [
      "off-white\n",
      "dior\n"
     ]
    }
   ],
   "source": [
    "fashion_brands= [\"off-white\", \"dior\", \"undercover\"]\n",
    "for x in fashion_brands:\n",
    "    print(x)\n",
    "    if x==\"dior\":\n",
    "        break"
   ]
  },
  {
   "cell_type": "markdown",
   "metadata": {},
   "source": [
    "If the goal of our code was to break the loop at \"dior\", we could try using the break statement before the print function as follows: "
   ]
  },
  {
   "cell_type": "code",
   "execution_count": 8,
   "metadata": {},
   "outputs": [
    {
     "name": "stdout",
     "output_type": "stream",
     "text": [
      "off-white\n"
     ]
    }
   ],
   "source": [
    "fashion_brands= [\"off-white\", \"dior\", \"undercover\"]\n",
    "for x in fashion_brands:\n",
    "    if x==\"dior\":\n",
    "        break\n",
    "    print(x)"
   ]
  },
  {
   "cell_type": "markdown",
   "metadata": {},
   "source": [
    "A use case would be where I do not want to highlight my c++ skills because I feeel like they do not fully highlight my abilities. Towards this I will The continue statement to stop the current iteration of the loop, and continue with the next. I will use if and continue statements to achive this:"
   ]
  },
  {
   "cell_type": "code",
   "execution_count": 12,
   "metadata": {},
   "outputs": [
    {
     "name": "stdout",
     "output_type": "stream",
     "text": [
      "python\n",
      "r\n",
      "sql\n"
     ]
    }
   ],
   "source": [
    "programming_languages= [\"python\", \"c++\", \"r\", \"sql\"]\n",
    "for i in programming_languages:\n",
    "    if i == \"c++\":\n",
    "        continue\n",
    "    print(i)"
   ]
  },
  {
   "cell_type": "code",
   "execution_count": 13,
   "metadata": {},
   "outputs": [
    {
     "name": "stdout",
     "output_type": "stream",
     "text": [
      "FizzBuzz:0\n",
      "1\n",
      "2\n",
      "Fizz:3\n",
      "4\n",
      "Buzz:1\n",
      "Fizz:6\n",
      "7\n",
      "8\n",
      "Fizz:9\n",
      "Buzz:1\n",
      "11\n",
      "Fizz:12\n",
      "13\n",
      "14\n",
      "FizzBuzz:15\n",
      "16\n",
      "17\n",
      "Fizz:18\n",
      "19\n",
      "Buzz:1\n",
      "Fizz:21\n",
      "22\n",
      "23\n",
      "Fizz:24\n",
      "Buzz:1\n",
      "26\n",
      "Fizz:27\n",
      "28\n",
      "29\n",
      "FizzBuzz:30\n",
      "31\n",
      "32\n",
      "Fizz:33\n",
      "34\n",
      "Buzz:1\n",
      "Fizz:36\n",
      "37\n",
      "38\n",
      "Fizz:39\n",
      "Buzz:1\n",
      "41\n",
      "Fizz:42\n",
      "43\n",
      "44\n",
      "FizzBuzz:45\n",
      "46\n",
      "47\n",
      "Fizz:48\n",
      "49\n",
      "Buzz:1\n",
      "Fizz:51\n",
      "52\n",
      "53\n",
      "Fizz:54\n",
      "Buzz:1\n",
      "56\n",
      "Fizz:57\n",
      "58\n",
      "59\n",
      "FizzBuzz:60\n",
      "61\n",
      "62\n",
      "Fizz:63\n",
      "64\n",
      "Buzz:1\n",
      "Fizz:66\n",
      "67\n",
      "68\n",
      "Fizz:69\n",
      "Buzz:1\n",
      "71\n",
      "Fizz:72\n",
      "73\n",
      "74\n",
      "FizzBuzz:75\n",
      "76\n",
      "77\n",
      "Fizz:78\n",
      "79\n",
      "Buzz:1\n",
      "Fizz:81\n",
      "82\n",
      "83\n",
      "Fizz:84\n",
      "Buzz:1\n",
      "86\n",
      "Fizz:87\n",
      "88\n",
      "89\n",
      "FizzBuzz:90\n",
      "91\n",
      "92\n",
      "Fizz:93\n",
      "94\n",
      "Buzz:1\n",
      "Fizz:96\n",
      "97\n",
      "98\n",
      "Fizz:99\n",
      "Buzz:1\n"
     ]
    }
   ],
   "source": [
    "for i in range(0, 101):\n",
    "    if i%3==0 and not i%5==0:\n",
    "        print (\"Fizz:%d\" %i)\n",
    "    elif i%5==0 and not i%3==0:\n",
    "        print (\"Buzz:%d\" %1)\n",
    "    elif i%3==0 and i%5==0:\n",
    "        print (\"FizzBuzz:%d\" %i)\n",
    "    else:\n",
    "        print(i)"
   ]
  },
  {
   "cell_type": "code",
   "execution_count": null,
   "metadata": {},
   "outputs": [],
   "source": []
  }
 ],
 "metadata": {
  "kernelspec": {
   "display_name": "Python 3",
   "language": "python",
   "name": "python3"
  },
  "language_info": {
   "codemirror_mode": {
    "name": "ipython",
    "version": 3
   },
   "file_extension": ".py",
   "mimetype": "text/x-python",
   "name": "python",
   "nbconvert_exporter": "python",
   "pygments_lexer": "ipython3",
   "version": "3.7.4"
  }
 },
 "nbformat": 4,
 "nbformat_minor": 2
}
