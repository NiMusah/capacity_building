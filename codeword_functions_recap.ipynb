{
 "cells": [
  {
   "cell_type": "code",
   "execution_count": 1,
   "metadata": {},
   "outputs": [
    {
     "name": "stdout",
     "output_type": "stream",
     "text": [
      "Hello Moses !\n"
     ]
    }
   ],
   "source": [
    "def greet(name):\n",
    "    print(\"Hello {0} !\".format(name))\n",
    "    \n",
    "greet(\"Moses\")"
   ]
  },
  {
   "cell_type": "code",
   "execution_count": 6,
   "metadata": {},
   "outputs": [
    {
     "name": "stdout",
     "output_type": "stream",
     "text": [
      "Thank you, Moses\n",
      "Thank you, John\n",
      "Thank you, Daniel\n",
      "Thank you, Duncan\n"
     ]
    }
   ],
   "source": [
    "attendees= [\"Moses\", \"John\", \"Daniel\", \"Duncan\"]\\\n",
    "\n",
    "def attendee_affirmation(names):\n",
    "    for names in attendees:\n",
    "        print(\"Thank you,\",names)\n",
    "        \n",
    "attendee_affirmation(attendees)"
   ]
  },
  {
   "cell_type": "code",
   "execution_count": 12,
   "metadata": {},
   "outputs": [
    {
     "name": "stdout",
     "output_type": "stream",
     "text": [
      "Tomorrow I am going to wear a Moncler Puffer Jacket\n"
     ]
    }
   ],
   "source": [
    "def fashion_sense(temp):\n",
    "    hot=30\n",
    "    warm=20\n",
    "    chill=10\n",
    "    freezing=0\n",
    "    cloth=''\n",
    "    \n",
    "    if temp > hot:\n",
    "        cloth= 'Wife beater'\n",
    "    elif temp > warm:\n",
    "        cloth= 'Safaricom T-Shirt'\n",
    "    elif temp > chill:\n",
    "        cloth= 'Hoodie'\n",
    "    elif temp > freezing:\n",
    "        cloth= 'Moncler Puffer Jacket'\n",
    "        \n",
    "    else:\n",
    "        cloth='Coat'\n",
    "    return cloth\n",
    "\n",
    "\n",
    "my_outfit= fashion_sense(7)\n",
    "print(\"Tomorrow I am going to wear a \" + my_outfit)\n"
   ]
  },
  {
   "cell_type": "code",
   "execution_count": 39,
   "metadata": {},
   "outputs": [
    {
     "name": "stdout",
     "output_type": "stream",
     "text": [
      "OOTD: I will wear a Tank top\n",
      "OOTD: I will wear a Kith T- Shirt\n",
      "OOTD: I will wear a Hoodie\n",
      "OOTD: I will wear a Kith T- Shirt\n",
      "OOTD: I will wear a Hoodie\n",
      "OOTD: I will wear a Hoodie\n",
      "OOTD: I will wear a Tank top\n"
     ]
    }
   ],
   "source": [
    "#Maybe a few improvements\n",
    "\n",
    "seven_day_forecast= [30, 20, 10, 15, 13, 12, 35]\n",
    "outfit=''\n",
    "\n",
    "def seven_day_outfits():\n",
    "    for temp in seven_day_forecast:\n",
    "        if temp >= 30:\n",
    "            print(\"OOTD: I will wear a Tank top\")\n",
    "        elif temp >= 15:\n",
    "            print(\"OOTD: I will wear a Kith T- Shirt\")\n",
    "        elif temp >= 10:\n",
    "             print(\"OOTD: I will wear a Hoodie\")\n",
    "        else:\n",
    "            print(\"OOTD: I will wear Smart casual\")\n",
    "    \n",
    "seven_day_outfits()   "
   ]
  },
  {
   "cell_type": "code",
   "execution_count": null,
   "metadata": {},
   "outputs": [],
   "source": []
  }
 ],
 "metadata": {
  "kernelspec": {
   "display_name": "Python 3",
   "language": "python",
   "name": "python3"
  },
  "language_info": {
   "codemirror_mode": {
    "name": "ipython",
    "version": 3
   },
   "file_extension": ".py",
   "mimetype": "text/x-python",
   "name": "python",
   "nbconvert_exporter": "python",
   "pygments_lexer": "ipython3",
   "version": "3.7.4"
  }
 },
 "nbformat": 4,
 "nbformat_minor": 2
}
