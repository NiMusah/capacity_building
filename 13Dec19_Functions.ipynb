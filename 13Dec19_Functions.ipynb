{
 "cells": [
  {
   "cell_type": "markdown",
   "metadata": {},
   "source": [
    "As a data scientist, there is a constant need to generate your own functions which are specific to the questions you are trying to answer.\n",
    "The three types of functions in Python include built-in functions, user-defined functions and anonymous functions.\n"
   ]
  },
  {
   "cell_type": "markdown",
   "metadata": {},
   "source": [
    "Built-in functions include the help(), min() and print() functions that are in essence pre-packaged with your python version/instance."
   ]
  },
  {
   "cell_type": "markdown",
   "metadata": {},
   "source": [
    "User-defined functions are functions a data scientist/user creates that is specific to a problem they have"
   ]
  },
  {
   "cell_type": "markdown",
   "metadata": {},
   "source": [
    "Anonymous functions aka lambda functions are functions not generally defined with the usual def keyword"
   ]
  },
  {
   "cell_type": "code",
   "execution_count": 2,
   "metadata": {},
   "outputs": [
    {
     "name": "stdout",
     "output_type": "stream",
     "text": [
      "Hello from far far away!\n"
     ]
    }
   ],
   "source": [
    "def my_function():\n",
    "    print(\"Hello from far far away!\")\n",
    "my_function()"
   ]
  },
  {
   "cell_type": "code",
   "execution_count": 4,
   "metadata": {},
   "outputs": [
    {
     "name": "stdout",
     "output_type": "stream",
     "text": [
      "Hello, John Doe, From My Function!, I wish you a great year!\n"
     ]
    }
   ],
   "source": [
    "def my_function_with_args(username, greeting):\n",
    "    print(\"Hello, %s, From My Function!, I wish you %s\"%\n",
    "         (username, greeting))\n",
    "\n",
    "my_function_with_args(\"John Doe\", \"a great year!\")    "
   ]
  },
  {
   "cell_type": "code",
   "execution_count": 6,
   "metadata": {},
   "outputs": [
    {
     "name": "stdout",
     "output_type": "stream",
     "text": [
      "3\n"
     ]
    }
   ],
   "source": [
    "def sum_two_numbers(a, b):\n",
    "    return a + b\n",
    "\n",
    "x=sum_two_numbers(1,2)\n",
    "print(x)"
   ]
  },
  {
   "cell_type": "code",
   "execution_count": 19,
   "metadata": {},
   "outputs": [
    {
     "name": "stdout",
     "output_type": "stream",
     "text": [
      " These are the benefits of lists:\n",
      " 1. More organized code\n",
      " 2. More readable code\n",
      " 3. Easier code reuse\n",
      " 4. Allowing programmers to share and connect code together\n",
      "\n"
     ]
    }
   ],
   "source": [
    "def list_benefits():\n",
    "    print(\" These are the benefits of lists:\\n\"\n",
    "        \" 1. More organized code\\n\",\"2. More readable code\\n\", \"3. Easier code reuse\\n\", \n",
    "          \"4. Allowing programmers to share and connect code together\\n\")\n",
    "    \n",
    "list_benefits()"
   ]
  },
  {
   "cell_type": "code",
   "execution_count": 10,
   "metadata": {},
   "outputs": [
    {
     "name": "stdout",
     "output_type": "stream",
     "text": [
      "This is a benefit of functions!\n"
     ]
    }
   ],
   "source": [
    "def build_sentence(info):\n",
    "    print(\"This %s\"% (info))\n",
    "    \n",
    "build_sentence(\"is a benefit of functions!\")"
   ]
  },
  {
   "cell_type": "code",
   "execution_count": 20,
   "metadata": {},
   "outputs": [
    {
     "name": "stdout",
     "output_type": "stream",
     "text": [
      "9 0 1\n"
     ]
    }
   ],
   "source": [
    "def least_difference(a, b, c):\n",
    "    diff1= abs(a-b)\n",
    "    diff2= abs(b-c)\n",
    "    diff3= abs(a-c)\n",
    "    return min(diff1, diff2, diff3)\n",
    "\n",
    "print(\n",
    "    least_difference(1, 10, 100),\n",
    "    least_difference(1, 10, 10),\n",
    "    least_difference(5, 6, 7)\n",
    ")\n",
    "    "
   ]
  },
  {
   "cell_type": "code",
   "execution_count": 21,
   "metadata": {},
   "outputs": [
    {
     "name": "stdout",
     "output_type": "stream",
     "text": [
      "Hello, Colin\n",
      "Hello, Kaggle\n",
      "Hello, world\n"
     ]
    }
   ],
   "source": [
    "def greet(who=\"Colin\"):\n",
    "    print(\"Hello,\", who)\n",
    "    \n",
    "greet()\n",
    "greet(who=\"Kaggle\")\n",
    "greet(\"world\")"
   ]
  },
  {
   "cell_type": "markdown",
   "metadata": {},
   "source": [
    "I am one of the people who gets a little bit confused with the whole dynamic of methods and functions. I initially thought that methods are the keywords that come after a variable has been defined and are signalled by the variable name followed by a fullstop(.). In a way, this is true but, The naivety!!!!"
   ]
  },
  {
   "cell_type": "markdown",
   "metadata": {},
   "source": [
    "However, a method refers to a function which is part of a class.\n",
    "You can access it with an instance or object of the class.\n",
    "A function on the other hand is not hindered by this limitation- it refers to a standalone function.\n",
    "This means that all methods are functions, but not all functions are methods"
   ]
  },
  {
   "cell_type": "code",
   "execution_count": 23,
   "metadata": {},
   "outputs": [
    {
     "data": {
      "text/plain": [
       "3"
      ]
     },
     "execution_count": 23,
     "metadata": {},
     "output_type": "execute_result"
    }
   ],
   "source": [
    "#Define a function 'plus()'\n",
    "def plus(a, b):\n",
    "    return a + b\n",
    "\n",
    "#Create a 'summation' class\n",
    "class Summation(object):\n",
    "    def sum(self, a, b):\n",
    "        self.contents= a + b\n",
    "        return self.contents\n",
    "    \n",
    "#If you now want to call the sum() method that is part of the Summation class, \n",
    "#you first need to define an instance or object of that class. So, let’s define such an object:\n",
    "\n",
    "sumInstance= Summation()\n",
    "sumInstance.sum(1, 2)"
   ]
  },
  {
   "cell_type": "code",
   "execution_count": null,
   "metadata": {},
   "outputs": [],
   "source": []
  }
 ],
 "metadata": {
  "kernelspec": {
   "display_name": "Python 3",
   "language": "python",
   "name": "python3"
  },
  "language_info": {
   "codemirror_mode": {
    "name": "ipython",
    "version": 3
   },
   "file_extension": ".py",
   "mimetype": "text/x-python",
   "name": "python",
   "nbconvert_exporter": "python",
   "pygments_lexer": "ipython3",
   "version": "3.7.4"
  }
 },
 "nbformat": 4,
 "nbformat_minor": 2
}
