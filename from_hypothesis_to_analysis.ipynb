{
 "cells": [
  {
   "cell_type": "code",
   "execution_count": 105,
   "metadata": {},
   "outputs": [],
   "source": [
    "##Required modules\n",
    "import pandas as pd\n",
    "import time\n",
    "import numpy as np\n",
    "import requests\n",
    "from bs4 import BeautifulSoup\n",
    "\n",
    "import warnings\n",
    "warnings.filterwarnings('ignore')"
   ]
  },
  {
   "cell_type": "code",
   "execution_count": 106,
   "metadata": {},
   "outputs": [],
   "source": [
    "##Assigning the specific url to a variable\n",
    "url='https://www.transfermarkt.com/bundesliga/startseite/wettbewerb/L1/plus/?saison_id=2018'\n",
    "headers={\"User-Agent\": \"Mozilla/5.0\"}\n",
    "response=requests.get(url, headers=headers, verify=False)\n",
    "soup=BeautifulSoup(response.text, 'html.parser')"
   ]
  },
  {
   "cell_type": "code",
   "execution_count": 107,
   "metadata": {},
   "outputs": [],
   "source": [
    "table=soup.find('table', {'class': 'items'})"
   ]
  },
  {
   "cell_type": "code",
   "execution_count": 108,
   "metadata": {},
   "outputs": [
    {
     "data": {
      "text/plain": [
       "20"
      ]
     },
     "execution_count": 108,
     "metadata": {},
     "output_type": "execute_result"
    }
   ],
   "source": [
    "row=table.findAll('tr')\n",
    "len(row)"
   ]
  },
  {
   "cell_type": "code",
   "execution_count": 109,
   "metadata": {},
   "outputs": [
    {
     "data": {
      "text/plain": [
       "<tr class=\"odd\">\n",
       "<td class=\"zentriert no-border-rechts\"><a class=\"vereinprofil_tooltip\" href=\"/fc-bayern-munchen/startseite/verein/27/saison_id/2018\"><img alt=\"Bayern Munich\" class=\"tiny_wappen\" src=\"https://tmssl.akamaized.net//images/wappen/tiny/27.png?lm=1498251238\" title=\" \"/></a></td><td class=\"hauptlink no-border-links hide-for-small hide-for-pad\"><a class=\"vereinprofil_tooltip\" href=\"/fc-bayern-munchen/startseite/verein/27/saison_id/2018\" id=\"27\">Bayern Munich</a> <a href=\"#\"><img alt=\"German Champion 17/18\" class=\"tabelle-erfolg\" src=\"https://tmssl.akamaized.net//images/erfolge/mini/10.png?lm=1520606996\" title=\"German Champion 17/18\"/></a></td><td class=\"hauptlink no-border-links show-for-small show-for-pad\"><a class=\"vereinprofil_tooltip\" href=\"/fc-bayern-munchen/startseite/verein/27/saison_id/2018\" id=\"27\">Bayern Munich </a></td><td class=\"zentriert\"><a href=\"/bayern-munich/kader/verein/27/saison_id/2018\" title=\"Bayern Munich\">32</a></td><td class=\"zentriert hide-for-small hide-for-pad\">24,7</td><td class=\"zentriert hide-for-pad hide-for-small\">15</td><td class=\"rechts hide-for-small hide-for-pad\"><a href=\"/bayern-munich/kader/verein/27/saison_id/2018\" title=\"Bayern Munich\">835,55 Mill. €</a></td><td class=\"rechts hide-for-small hide-for-pad\">26,11 Mill. €</td><td class=\"rechts show-for-small show-for-pad nowrap\"><a href=\"/bayern-munich/kader/verein/27/saison_id/2018\" title=\"Bayern Munich\">835,55 Mill. €</a></td><td class=\"rechts show-for-small show-for-pad nowrap\">26,11 Mill. €</td></tr>"
      ]
     },
     "execution_count": 109,
     "metadata": {},
     "output_type": "execute_result"
    }
   ],
   "source": [
    "row[2]"
   ]
  },
  {
   "cell_type": "code",
   "execution_count": 110,
   "metadata": {},
   "outputs": [
    {
     "data": {
      "text/plain": [
       "'\\nBayern Munich Bayern Munich 3224,715835,55 Mill. €26,11 Mill. €835,55 Mill. €26,11 Mill. €'"
      ]
     },
     "execution_count": 110,
     "metadata": {},
     "output_type": "execute_result"
    }
   ],
   "source": [
    "row[2].text"
   ]
  },
  {
   "cell_type": "code",
   "execution_count": 111,
   "metadata": {},
   "outputs": [
    {
     "data": {
      "text/plain": [
       "'Bayern Munich '"
      ]
     },
     "execution_count": 111,
     "metadata": {},
     "output_type": "execute_result"
    }
   ],
   "source": [
    "row[2].findAll('td')[1].text"
   ]
  },
  {
   "cell_type": "code",
   "execution_count": 112,
   "metadata": {},
   "outputs": [
    {
     "data": {
      "text/plain": [
       "'32'"
      ]
     },
     "execution_count": 112,
     "metadata": {},
     "output_type": "execute_result"
    }
   ],
   "source": [
    "row[2].findAll('td')[3].text"
   ]
  },
  {
   "cell_type": "code",
   "execution_count": 113,
   "metadata": {},
   "outputs": [
    {
     "data": {
      "text/plain": [
       "'24,7'"
      ]
     },
     "execution_count": 113,
     "metadata": {},
     "output_type": "execute_result"
    }
   ],
   "source": [
    "row[2].findAll('td')[4].text"
   ]
  },
  {
   "cell_type": "code",
   "execution_count": 114,
   "metadata": {},
   "outputs": [
    {
     "data": {
      "text/plain": [
       "'15'"
      ]
     },
     "execution_count": 114,
     "metadata": {},
     "output_type": "execute_result"
    }
   ],
   "source": [
    "row[2].findAll('td')[5].text"
   ]
  },
  {
   "cell_type": "code",
   "execution_count": 115,
   "metadata": {},
   "outputs": [
    {
     "data": {
      "text/plain": [
       "'835,55 Mill. €'"
      ]
     },
     "execution_count": 115,
     "metadata": {},
     "output_type": "execute_result"
    }
   ],
   "source": [
    "row[2].findAll('td')[6].text"
   ]
  },
  {
   "cell_type": "code",
   "execution_count": 116,
   "metadata": {},
   "outputs": [
    {
     "data": {
      "text/plain": [
       "'26,11 Mill. €'"
      ]
     },
     "execution_count": 116,
     "metadata": {},
     "output_type": "execute_result"
    }
   ],
   "source": [
    "row[2].findAll('td')[7].text"
   ]
  },
  {
   "cell_type": "code",
   "execution_count": 117,
   "metadata": {},
   "outputs": [],
   "source": [
    "team=[]\n",
    "squad=[]\n",
    "age=[]\n",
    "foreigners=[]\n",
    "total_market_value=[]\n",
    "average_market_value=[]\n",
    "for row in table.findAll('tr'):\n",
    "    try:\n",
    "        col=row.findAll('td')\n",
    "        team.append(col[2].text)\n",
    "        squad.append(col[3].text)\n",
    "        age.append(col[4].text)\n",
    "        foreigners.append(col[5].text)\n",
    "        total_market_value.append(col[6].text)\n",
    "        average_market_value.append(col[7].text)\n",
    "    except:\n",
    "        pass"
   ]
  },
  {
   "cell_type": "code",
   "execution_count": 118,
   "metadata": {},
   "outputs": [],
   "source": [
    "df_bundesliga=pd.DataFrame({'Team': team[1:], 'Squad': squad[1:], \n",
    "                           'Age': age[1:], 'Foreigners': foreigners[1:], \n",
    "                            'Total Value': total_market_value[1:], \n",
    "                            'Average Value': average_market_value[1:] })"
   ]
  },
  {
   "cell_type": "markdown",
   "metadata": {},
   "source": [
    "#Scraping The Data More Dynamically"
   ]
  },
  {
   "cell_type": "code",
   "execution_count": 119,
   "metadata": {},
   "outputs": [],
   "source": [
    "dct_bl={}\n",
    "dct_pl={}\n",
    "dct_seriea={}\n",
    "dct_laliga={}\n",
    "dct_ligue1={}\n",
    "dct_russia={}\n",
    "dct_portugal={}\n",
    "dct_ukraine={}\n",
    "dct_turkey={}\n",
    "dct_belgium={}\n",
    "\n",
    "for m in range (2012, 2019):\n",
    "    dct_bl['df_bl_%s' % m] = pd.DataFrame()\n",
    "    dct_pl['df_pl_%s' % m] = pd.DataFrame()\n",
    "    dct_seriea['df_seriea_%s' % m] = pd.DataFrame()\n",
    "    dct_laliga['df_laliga_%s' % m] = pd.DataFrame()\n",
    "    dct_ligue1['df_ligue1_%s' % m] = pd.DataFrame()\n",
    "    dct_russia['df_russia_%s' % m] = pd.DataFrame()\n",
    "    dct_portugal['df_portugal_%s' % m] = pd.DataFrame()\n",
    "    dct_ukraine['df_ukraine_%s' % m] = pd.DataFrame()\n",
    "    dct_turkey['df_turkey_%s' % m] = pd.DataFrame()\n",
    "    dct_belgium['df_belgium_%s' % m] = pd.DataFrame()    "
   ]
  },
  {
   "cell_type": "code",
   "execution_count": 120,
   "metadata": {},
   "outputs": [],
   "source": [
    "#List with our needed URLs for each league\n",
    "league_urls=(['https://www.transfermarkt.com/bundesliga/startseite/wettbewerb/L1/plus/?saison_id=',\n",
    "                         'https://www.transfermarkt.com/premier-league/startseite/wettbewerb/GB1/plus/?saison_id=',\n",
    "                         'https://www.transfermarkt.com/serie-a/startseite/wettbewerb/IT1/plus/?saison_id=',\n",
    "                         'https://www.transfermarkt.com/laliga/startseite/wettbewerb/ES1/plus/?saison_id=',\n",
    "                         'https://www.transfermarkt.com/ligue-1/startseite/wettbewerb/FR1/plus/?saison_id=',\n",
    "                         'https://www.transfermarkt.com/premier-liga/startseite/wettbewerb/RU1/plus/?saison_id=',\n",
    "                         'https://www.transfermarkt.com/liga-nos/startseite/wettbewerb/PO1/plus/?saison_id=',\n",
    "                         'https://www.transfermarkt.com/premier-liga/startseite/wettbewerb/UKR1/plus/?saison_id=',\n",
    "                         'https://www.transfermarkt.com/super-lig/startseite/wettbewerb/TR1/plus/?saison_id=',\n",
    "                         'https://www.transfermarkt.com/jupiler-pro-league/startseite/wettbewerb/BE1/plus/?saison_id=' ])"
   ]
  },
  {
   "cell_type": "code",
   "execution_count": null,
   "metadata": {},
   "outputs": [],
   "source": [
    "#Scrapping part\n",
    "#The first loop is for each url in our URL-list\n",
    "for l in range (0, len(league_urls)):\n",
    "    time.sleep(2)\n",
    "    #The second loop is for each year we want to scrape\n",
    "    for n in range (2012, 2019):\n",
    "        time.sleep(3)\n",
    "        df_soccer1=None\n",
    "        url=league_urls[1]+str(n)\n",
    "        headers={\"User-Agent\": \"Mozilla/5.0\"}\n",
    "        response=requests.get(url, headers=headers, verify=False)\n",
    "        soup=BeautifulSoup(response.text, 'html.parser')\n",
    "        \n",
    "        \n",
    "        #Table 1 with information about the value\n",
    "        table=soup.find(\"table\", {\"class\": \"items\"})\n",
    "        \n",
    "        team=[]\n",
    "        squad=[]\n",
    "        age=[]\n",
    "        foreigners=[]\n",
    "        total_market_value=[]\n",
    "        average_market_value=[]\n",
    "        \n",
    "        for row in table.findAll('tr'):\n",
    "            try:\n",
    "                col=row.findAll('td')\n",
    "                team.append(col[2].text)\n",
    "                squad.append(col[3].text)\n",
    "                age.append(col[4].text)\n",
    "                foreigners.append(col[5].text)\n",
    "                total_market_value.append(col[6].text)\n",
    "                average_market_value(col[7].text)\n",
    "            except:\n",
    "                pass\n",
    "            \n",
    "        team=[elem.replace('\\n', '').replace('\\xa0', '').strip() for elem in team]\n",
    "            \n",
    "        #Table 2 with information about placement, goals and points\n",
    "        df_soccer2=None\n",
    "            \n",
    "        table2=soup.findAll(\"div\", {\"class\": \"responsive-table\"})\n",
    "            \n",
    "        team2=[]\n",
    "        place=[]\n",
    "        matches=[]\n",
    "        difference=[]\n",
    "        pts=[]\n",
    "            \n",
    "        if len(table2) <=2:\n",
    "            for row in table2[1].findAll('tr'):\n",
    "                try:\n",
    "                    col=row.findAll('td')\n",
    "                    team2.append(col[2].text)\n",
    "                    place.append(col[0].text)\n",
    "                    matches.append(col[3].text)\n",
    "                    differences.append(col[4].text)\n",
    "                    pts.append(col[5].text)\n",
    "                except:\n",
    "                    pass\n",
    "        else:\n",
    "            #Sometimes the information you need is in another table\n",
    "            for row in table2[2].findAll('tr'):\n",
    "                try:\n",
    "                    col = row.findAll('td')\n",
    "                    team2.append(col[2].text)\n",
    "                    place.append(col[0].text)\n",
    "                    matches.append(col[3].text)\n",
    "                    difference.append(col[4].text)\n",
    "                    pts.append(col[5].text)\n",
    "                except:\n",
    "                    pass\n",
    "                    \n",
    "        team2 = [elem.replace('\\n','').replace('\\xa0','').strip() for elem in team2]\n",
    "            \n",
    "df_soccer1 = pd.DataFrame({'Team': team[1:], 'Season': n, 'Squad': squad[1:], 'Age': age[1:], 'Foreigners': foreigners[1:],\n",
    "                                     'Total Value': total_market_value[1:], 'Average value': average_market_value[1:]})\n",
    "            \n",
    "df_soccer2 = pd.DataFrame({'Team': team2, 'Place': place, 'Matches': matches, 'Difference': difference,\n",
    "                                 'Points': pts})\n",
    "            \n",
    "                \n",
    "#Store all dictionaries in a list\n",
    "dct_all = [dct_bl,dct_pl,dct_seriea,dct_laliga,dct_ligue1,dct_russia,dct_portugal,dct_ukraine,dct_turkey,dct_belgium]\n",
    "        \n",
    "#Merge df_soccer1 and df_soccer2 for each season\n",
    "dct_all[l]['df_bl_%s' % n] = pd.merge(df_soccer1, df_soccer2, how=\"inner\", left_on=\"Team\", right_on=\"Team\")"
   ]
  },
  {
   "cell_type": "code",
   "execution_count": null,
   "metadata": {},
   "outputs": [],
   "source": [
    "df_bl_final = pd.concat(dct_bl.values(), ignore_index=True)\n",
    "df_pl_final = pd.concat(dct_pl.values(), ignore_index=True) \n",
    "df_seriea_final = pd.concat(dct_seriea.values(), ignore_index=True)\n",
    "df_laliga_final = pd.concat(dct_laliga.values(), ignore_index=True)\n",
    "df_ligue1_final = pd.concat(dct_ligue1.values(), ignore_index=True)\n",
    "df_russia_final = pd.concat(dct_russia.values(), ignore_index=True)\n",
    "df_portugal_final = pd.concat(dct_portugal.values(), ignore_index=True)\n",
    "df_ukraine_final = pd.concat(dct_ukraine.values(), ignore_index=True)\n",
    "df_turkey_final = pd.concat(dct_turkey.values(), ignore_index=True)\n",
    "df_belgium_final = pd.concat(dct_belgium.values(), ignore_index=True)\n",
    "\n",
    "df_bl_final['Country'] = 'Germany'\n",
    "df_pl_final['Country'] = 'England'\n",
    "df_seriea_final['Country'] = 'Italy'\n",
    "df_laliga_final['Country'] = 'Spain'\n",
    "df_ligue1_final['Country'] = 'France'\n",
    "df_russia_final['Country'] = 'Russia'\n",
    "df_portugal_final['Country'] = 'Portugal'\n",
    "df_ukraine_final['Country'] = 'Ukraine'\n",
    "df_turkey_final['Country'] = 'Turkey'\n",
    "df_belgium_final['Country'] = 'Belgium'\n",
    "\n",
    "df_final = pd.concat([df_bl_final,df_pl_final,df_seriea_final,df_laliga_final,df_ligue1_final,\n",
    "                df_russia_final,df_portugal_final,df_ukraine_final,df_turkey_final,df_belgium_final], ignore_index=True)\n"
   ]
  },
  {
   "cell_type": "code",
   "execution_count": null,
   "metadata": {},
   "outputs": [],
   "source": []
  }
 ],
 "metadata": {
  "kernelspec": {
   "display_name": "Python 3",
   "language": "python",
   "name": "python3"
  },
  "language_info": {
   "codemirror_mode": {
    "name": "ipython",
    "version": 3
   },
   "file_extension": ".py",
   "mimetype": "text/x-python",
   "name": "python",
   "nbconvert_exporter": "python",
   "pygments_lexer": "ipython3",
   "version": "3.7.4"
  }
 },
 "nbformat": 4,
 "nbformat_minor": 2
}
