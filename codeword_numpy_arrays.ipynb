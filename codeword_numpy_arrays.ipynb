{
 "cells": [
  {
   "cell_type": "markdown",
   "metadata": {},
   "source": [
    "##### An initial draft for numpy array realities"
   ]
  },
  {
   "cell_type": "code",
   "execution_count": 2,
   "metadata": {},
   "outputs": [],
   "source": [
    "import numpy as np\n",
    "import pandas as pd"
   ]
  },
  {
   "cell_type": "code",
   "execution_count": 92,
   "metadata": {},
   "outputs": [
    {
     "name": "stdout",
     "output_type": "stream",
     "text": [
      "[[ 0  1  2  3  4]\n",
      " [ 5  6  7  8  9]\n",
      " [10 11 12 13 14]]\n"
     ]
    }
   ],
   "source": [
    "#Create a 3X5 numpy array\n",
    "\n",
    "my_array=np.arange(15).reshape(3,5)\n",
    "\n",
    "#arange() method provides the array's range\n",
    "#reshape() method provides the arrays shape in terms of number of column and rows (columns, columns)\n",
    "\n",
    "print(my_array)"
   ]
  },
  {
   "cell_type": "code",
   "execution_count": 93,
   "metadata": {},
   "outputs": [
    {
     "name": "stdout",
     "output_type": "stream",
     "text": [
      "Number of dimensions: 2\n",
      "\n",
      "Array shape: (3, 5)\n",
      "\n",
      "Array size: 15\n",
      "\n"
     ]
    }
   ],
   "source": [
    "#A few characteristics of my array\n",
    "\n",
    "#Use ndim to determione the number of dimensions of the array\n",
    "\n",
    "print(\"Number of dimensions\", end=': ')\n",
    "print(my_array.ndim)\n",
    "print()\n",
    "\n",
    "\n",
    "#Use shape to determione the arrays shape (rows, columns)\n",
    "print(\"Array shape\", end=': ')\n",
    "print(my_array.shape)\n",
    "print()\n",
    "\n",
    "\n",
    "#Use size to determione the arrays size- number of elements within the array\n",
    "print(\"Array size\", end=': ')\n",
    "print(my_array.size)\n",
    "print()"
   ]
  },
  {
   "cell_type": "code",
   "execution_count": 94,
   "metadata": {},
   "outputs": [
    {
     "data": {
      "text/plain": [
       "array([ 1,  3,  5,  7,  9, 11, 13, 15, 17, 19])"
      ]
     },
     "execution_count": 94,
     "metadata": {},
     "output_type": "execute_result"
    }
   ],
   "source": [
    "#The numpy arange() method\n",
    "#Arguements include the starting value, the last value and the value for increments\n",
    "\n",
    "#Create an array that start with the value 1, ends at 19 and whose values increase by 2\n",
    "\n",
    "np.arange(1,20,2)"
   ]
  },
  {
   "cell_type": "code",
   "execution_count": 103,
   "metadata": {},
   "outputs": [
    {
     "name": "stdout",
     "output_type": "stream",
     "text": [
      "[[[0. 0. 0.]\n",
      "  [0. 0. 0.]]\n",
      "\n",
      " [[0. 0. 0.]\n",
      "  [0. 0. 0.]]]\n"
     ]
    }
   ],
   "source": [
    "#Create an 3 dimension array of zeros with the shape (2, 2) using the zeros() method\n",
    "\n",
    "sufuri=np.zeros((2,2,3))\n",
    "#print(sufuri.ndim)\n",
    "print(sufuri)"
   ]
  },
  {
   "cell_type": "code",
   "execution_count": 71,
   "metadata": {},
   "outputs": [
    {
     "data": {
      "text/plain": [
       "array([[[1., 1., 1.],\n",
       "        [1., 1., 1.]],\n",
       "\n",
       "       [[1., 1., 1.],\n",
       "        [1., 1., 1.]]])"
      ]
     },
     "execution_count": 71,
     "metadata": {},
     "output_type": "execute_result"
    }
   ],
   "source": [
    "#Create an 3 dimension array of ones with the shape (2, 2) using the ones() method\n",
    "\n",
    "np.ones((2,2,3))"
   ]
  },
  {
   "cell_type": "code",
   "execution_count": 72,
   "metadata": {},
   "outputs": [
    {
     "data": {
      "text/plain": [
       "array([[1.02101932e-311, 1.02101932e-311, 1.02104311e-311,\n",
       "        1.02104312e-311, 1.02103740e-311, 1.02104312e-311,\n",
       "        1.02103950e-311, 1.02104312e-311, 1.02104312e-311],\n",
       "       [1.02104312e-311, 1.02101931e-311, 1.02101932e-311,\n",
       "        1.02104312e-311, 1.02102029e-311, 1.02104312e-311,\n",
       "        1.02104015e-311, 1.02104021e-311, 1.02101933e-311],\n",
       "       [1.02104023e-311, 1.02103715e-311, 1.02102011e-311,\n",
       "        1.02101931e-311, 1.02103893e-311, 1.02103893e-311,\n",
       "        1.02103891e-311, 1.02103891e-311, 1.02103716e-311],\n",
       "       [1.02103898e-311, 1.02103890e-311, 1.02103889e-311,\n",
       "        1.02103889e-311, 1.02103889e-311, 1.02103743e-311,\n",
       "        1.02102024e-311, 1.02101937e-311, 1.02103740e-311],\n",
       "       [1.02103743e-311, 1.02103741e-311, 1.02103743e-311,\n",
       "        1.02103743e-311, 1.02103743e-311, 1.02103743e-311,\n",
       "        1.02103715e-311, 1.02103740e-311, 1.02103743e-311],\n",
       "       [1.02103742e-311, 1.02103744e-311, 1.02103743e-311,\n",
       "        1.02103744e-311, 1.02103744e-311, 1.02103744e-311,\n",
       "        1.02103743e-311, 1.02103742e-311, 1.02103740e-311],\n",
       "       [1.02103744e-311, 1.02103744e-311, 1.02103744e-311,\n",
       "        1.02101931e-311, 1.02101932e-311, 1.02102013e-311,\n",
       "        1.02101931e-311, 1.02101931e-311, 1.02101931e-311],\n",
       "       [1.02101931e-311, 1.02101931e-311, 1.02101931e-311,\n",
       "        1.02101931e-311, 1.02101931e-311, 1.02101931e-311,\n",
       "        1.02101931e-311, 1.02101931e-311, 1.02101931e-311],\n",
       "       [1.02101932e-311, 1.02101932e-311, 1.02101931e-311,\n",
       "        1.02101931e-311, 1.02101932e-311, 1.02101932e-311,\n",
       "        1.02101932e-311, 1.02101932e-311, 0.00000000e+000]])"
      ]
     },
     "execution_count": 72,
     "metadata": {},
     "output_type": "execute_result"
    }
   ],
   "source": [
    "#Create an empty array of with the shape (9, 9)\n",
    "\n",
    "np.empty((9,9))\n",
    "\n",
    "#Creates a random array of values every other time the empty() method is rum"
   ]
  },
  {
   "cell_type": "code",
   "execution_count": 77,
   "metadata": {},
   "outputs": [
    {
     "name": "stdout",
     "output_type": "stream",
     "text": [
      "[ 4  6 12]\n"
     ]
    }
   ],
   "source": [
    "#Create an array from a list\n",
    "#This is supposed to give us more control over its elements\n",
    "\n",
    "my_list=np.array([4, 6, 12])\n",
    "print(my_list)"
   ]
  },
  {
   "cell_type": "code",
   "execution_count": 80,
   "metadata": {},
   "outputs": [
    {
     "name": "stdout",
     "output_type": "stream",
     "text": [
      "[ 4  6 12]\n"
     ]
    }
   ],
   "source": [
    "#Create an array from a tuple\n",
    "#This is supposed to give us more control over its elements\n",
    "\n",
    "my_tuple=np.array((4, 6, 12))\n",
    "print(my_tuple)"
   ]
  },
  {
   "cell_type": "code",
   "execution_count": 81,
   "metadata": {},
   "outputs": [
    {
     "name": "stdout",
     "output_type": "stream",
     "text": [
      "[[3 4]\n",
      " [1 2]\n",
      " [7 8]\n",
      " [5 6]]\n"
     ]
    }
   ],
   "source": [
    "#Craete a multidimensional array from a list\n",
    "\n",
    "poly_array=np.array([[3, 4], [1, 2], [7, 8], [5, 6]])\n",
    "print(poly_array)"
   ]
  },
  {
   "cell_type": "code",
   "execution_count": 104,
   "metadata": {},
   "outputs": [
    {
     "name": "stdout",
     "output_type": "stream",
     "text": [
      "3\n",
      "[[[ 0  1  2  3]\n",
      "  [ 4  5  6  7]]\n",
      "\n",
      " [[ 8  9 10 11]\n",
      "  [12 13 14 15]]]\n"
     ]
    }
   ],
   "source": [
    "#Create an array with 16 observations (0-15) and with the shape of 2 rows and 2 columns\n",
    "\n",
    "other_array=np.arange(16).reshape(2,2,4)\n",
    "print(other_array.ndim)\n",
    "print(other_array)"
   ]
  },
  {
   "cell_type": "markdown",
   "metadata": {},
   "source": [
    "### Array Operations"
   ]
  },
  {
   "cell_type": "code",
   "execution_count": 112,
   "metadata": {},
   "outputs": [
    {
     "data": {
      "text/plain": [
       "array([False, False, False, False, False,  True,  True])"
      ]
     },
     "execution_count": 112,
     "metadata": {},
     "output_type": "execute_result"
    }
   ],
   "source": [
    "#Arithmetic operations are generally apply/ are done to every individual observation in the array\n",
    "#The operation prints out the results of the operation which is done elementwise/per observation\n",
    "\n",
    "operations_array= np.array([2, 3, 4, 5, 6, 7, 8])\n",
    "\n",
    "#Multiplication\n",
    "operations_array*2\n",
    "\n",
    "#Square\n",
    "operations_array**2\n",
    "\n",
    "#Cosine\n",
    "np.cos(operations_array)\n",
    "\n",
    "#Boolean\n",
    "operations_array > 6\n",
    "\n",
    "#Something to note is that array operations do not change the original observations\n",
    "#However, the results of the operations can be stored in a new variable or the initial variable\n",
    "#Storing the results in the original variable will overwrite the initial observations"
   ]
  },
  {
   "cell_type": "code",
   "execution_count": 125,
   "metadata": {},
   "outputs": [
    {
     "name": "stdout",
     "output_type": "stream",
     "text": [
      "[ 0  1  4  9 16 25 36 49 64 81]\n"
     ]
    },
    {
     "data": {
      "text/plain": [
       "array([ 0,  1,  4,  9, 16, 25, 36, 49, 64, 81], dtype=int32)"
      ]
     },
     "execution_count": 125,
     "metadata": {},
     "output_type": "execute_result"
    }
   ],
   "source": [
    "#Undertake slicing and indexing of our array\n",
    "#Not much of a difference from other python data structures\n",
    "\n",
    "#Create array\n",
    "\n",
    "si_array=np.arange(10)**2\n",
    "print(si_array)\n",
    "\n",
    "\n",
    "#Select the observation/value of 4 in our array\n",
    "si_array[2]\n",
    "\n",
    "#Select the observations/values starting from 4 to 26 in our array\n",
    "si_array[2:7]\n",
    "\n",
    "#Select all the observations\n",
    "si_array[:]                  #This is similar to print(varibale_name)"
   ]
  },
  {
   "cell_type": "code",
   "execution_count": 134,
   "metadata": {},
   "outputs": [
    {
     "name": "stdout",
     "output_type": "stream",
     "text": [
      "[ 0  1  4  9 16 25 36 49]\n",
      "0\n",
      "1\n",
      "4\n",
      "9\n",
      "16\n",
      "25\n",
      "36\n",
      "49\n"
     ]
    }
   ],
   "source": [
    "#Array observations iteration\n",
    "#Create an array of 20 observations then square said obsaervation\n",
    "\n",
    "itr_array=np.arange(8)**2\n",
    "print(itr_array)\n",
    "\n",
    "#Go ye and iterate\n",
    "\n",
    "for observations in itr_array:\n",
    "    print(observations)"
   ]
  },
  {
   "cell_type": "code",
   "execution_count": 143,
   "metadata": {},
   "outputs": [
    {
     "name": "stdout",
     "output_type": "stream",
     "text": [
      "[[ 0  1  2  3  4]\n",
      " [ 5  6  7  8  9]\n",
      " [10 11 12 13 14]\n",
      " [15 16 17 18 19]]\n"
     ]
    },
    {
     "data": {
      "text/plain": [
       "array([[ 7,  8],\n",
       "       [12, 13],\n",
       "       [17, 18]])"
      ]
     },
     "execution_count": 143,
     "metadata": {},
     "output_type": "execute_result"
    }
   ],
   "source": [
    "#Create a multidimensional array\n",
    "second_itr_array=np.arange(20).reshape(4,5)\n",
    "print(second_itr_array)\n",
    "\n",
    "#Get the observation with the value 9\n",
    "#The value is on the second row(index 1) and fifth colum(index 4)\n",
    "second_itr_array[1, 4]\n",
    "\n",
    "#Slice the multidimensional array created\n",
    "#Technically it follows the following; var_name[start.row1:end.row, start.colum:end.column]\n",
    "\n",
    "second_itr_array[1:4, 2:4]\n",
    "\n",
    "#Remember end.row and end.column are excluded from the slice\n",
    "#[start at row 1:end at row3, start at row 2: end at row3]--- the numbers indicate index\n"
   ]
  },
  {
   "cell_type": "markdown",
   "metadata": {},
   "source": [
    "## Array statistics"
   ]
  },
  {
   "cell_type": "code",
   "execution_count": 145,
   "metadata": {},
   "outputs": [
    {
     "name": "stdout",
     "output_type": "stream",
     "text": [
      "[[0 1 2]\n",
      " [3 4 5]\n",
      " [6 7 8]]\n"
     ]
    }
   ],
   "source": [
    "#Create a multidimensional array\n",
    "#9 elements/observations with 3 rows and 3 columns\n",
    "\n",
    "stats_array=np.arange(9).reshape(3,3)\n",
    "print(stats_array)"
   ]
  },
  {
   "cell_type": "markdown",
   "metadata": {},
   "source": [
    "### Sum"
   ]
  },
  {
   "cell_type": "code",
   "execution_count": 179,
   "metadata": {},
   "outputs": [
    {
     "data": {
      "text/plain": [
       "36"
      ]
     },
     "execution_count": 179,
     "metadata": {},
     "output_type": "execute_result"
    }
   ],
   "source": [
    "#Statistics\n",
    "#Sum\n",
    "#The numpy sum() method, in most circumstances, is called by the syntax np.sum()\n",
    "\n",
    "np.sum(stats_array)\n",
    "\n",
    "#Or var_name.sum()\n",
    "stats_array.sum()"
   ]
  },
  {
   "cell_type": "code",
   "execution_count": 180,
   "metadata": {},
   "outputs": [
    {
     "data": {
      "text/plain": [
       "array([ 3, 12, 21])"
      ]
     },
     "execution_count": 180,
     "metadata": {},
     "output_type": "execute_result"
    }
   ],
   "source": [
    "#Aggregating the observations in an array, especially multidimensional one can be tricky\n",
    "#When aggregating the values consider the fact that these arrays have multiple row and columns\n",
    "#A problem could require aggregations to be done against either a row/column and so on\n",
    "\n",
    "#Sum against the column\n",
    "np.sum(stats_array, axis=0)\n",
    "#OR\n",
    "stats_array.sum(axis=0)\n",
    "\n",
    "#This should result in an array with 3 obsevations to match the arrays shape(3,3)- 3 columns\n",
    "\n",
    "#Sum against the row\n",
    "np.sum(stats_array, axis=1)\n",
    "#OR\n",
    "stats_array.sum(axis=1)\n",
    "\n",
    "#This should result in an array with 3 obsevations to match the arrays shape(3,3)- 3 rows"
   ]
  },
  {
   "cell_type": "markdown",
   "metadata": {},
   "source": [
    "### Minimum"
   ]
  },
  {
   "cell_type": "code",
   "execution_count": 181,
   "metadata": {},
   "outputs": [
    {
     "data": {
      "text/plain": [
       "0"
      ]
     },
     "execution_count": 181,
     "metadata": {},
     "output_type": "execute_result"
    }
   ],
   "source": [
    "#Statistics\n",
    "#Minimum\n",
    "#The numpy min() method, in most circumstances, is called by the syntax np.min()\n",
    "\n",
    "np.min(stats_array)\n",
    "\n",
    "#Or var_name.min()\n",
    "\n",
    "stats_array.min()"
   ]
  },
  {
   "cell_type": "code",
   "execution_count": 182,
   "metadata": {},
   "outputs": [
    {
     "data": {
      "text/plain": [
       "array([0, 3, 6])"
      ]
     },
     "execution_count": 182,
     "metadata": {},
     "output_type": "execute_result"
    }
   ],
   "source": [
    "#Aggregating the observations in an array, especially multidimensional one can be tricky\n",
    "#When aggregating the values consider the fact that these arrays have multiple row and columns\n",
    "#A problem could require aggregations to be done against either a row/column and so on\n",
    "\n",
    "#Minimum against the column\n",
    "np.min(stats_array, axis=0)\n",
    "#OR\n",
    "stats_array.min(axis=0)\n",
    "\n",
    "#This should result in an array with 3 obsevations to match the arrays shape(3,3)- 3 columns\n",
    "\n",
    "#Minimum against the row\n",
    "np.min(stats_array, axis=1)\n",
    "#OR\n",
    "stats_array.min(axis=1)\n",
    "\n",
    "#This should result in an array with 3 obsevations to match the arrays shape(3,3)- 3 rows"
   ]
  },
  {
   "cell_type": "markdown",
   "metadata": {},
   "source": [
    "### Maximum"
   ]
  },
  {
   "cell_type": "code",
   "execution_count": 183,
   "metadata": {},
   "outputs": [
    {
     "data": {
      "text/plain": [
       "8"
      ]
     },
     "execution_count": 183,
     "metadata": {},
     "output_type": "execute_result"
    }
   ],
   "source": [
    "#Statistics\n",
    "#Maximum\n",
    "#The numpy max() method, in most circumstances, is called by the syntax np.max()\n",
    "\n",
    "np.max(stats_array)\n",
    "\n",
    "#Or var_name.max()\n",
    "\n",
    "stats_array.max()"
   ]
  },
  {
   "cell_type": "code",
   "execution_count": 184,
   "metadata": {},
   "outputs": [
    {
     "data": {
      "text/plain": [
       "array([2, 5, 8])"
      ]
     },
     "execution_count": 184,
     "metadata": {},
     "output_type": "execute_result"
    }
   ],
   "source": [
    "#Aggregating the observations in an array, especially multidimensional one can be tricky\n",
    "#When aggregating the values consider the fact that these arrays have multiple row and columns\n",
    "#A problem could require aggregations to be done against either a row/column and so on\n",
    "\n",
    "#Maximum against the column\n",
    "np.max(stats_array, axis=0)\n",
    "#OR\n",
    "stats_array.max(axis=0)\n",
    "\n",
    "#This should result in an array with 3 obsevations to match the arrays shape(3,3)- 3 columns\n",
    "\n",
    "#Maximum against the row\n",
    "np.max(stats_array, axis=1)\n",
    "#OR\n",
    "stats_array.max(axis=1)\n",
    "\n",
    "#This should result in an array with 3 obsevations to match the arrays shape(3,3)- 3 rows"
   ]
  },
  {
   "cell_type": "markdown",
   "metadata": {},
   "source": [
    "### Average"
   ]
  },
  {
   "cell_type": "code",
   "execution_count": 185,
   "metadata": {},
   "outputs": [
    {
     "data": {
      "text/plain": [
       "4.0"
      ]
     },
     "execution_count": 185,
     "metadata": {},
     "output_type": "execute_result"
    }
   ],
   "source": [
    "#Statistics\n",
    "#Average\n",
    "#The numpy avergae() method, in most circumstances, is called by the syntax np.average()\n",
    "\n",
    "np.average(stats_array)"
   ]
  },
  {
   "cell_type": "code",
   "execution_count": 186,
   "metadata": {},
   "outputs": [
    {
     "data": {
      "text/plain": [
       "array([1., 4., 7.])"
      ]
     },
     "execution_count": 186,
     "metadata": {},
     "output_type": "execute_result"
    }
   ],
   "source": [
    "#Aggregating the observations in an array, especially multidimensional one can be tricky\n",
    "#When aggregating the values consider the fact that these arrays have multiple row and columns\n",
    "#A problem could require aggregations to be done against either a row/column and so on\n",
    "\n",
    "#Average against the column\n",
    "np.average(stats_array, axis=0)\n",
    "\n",
    "\n",
    "#This should result in an array with 3 obsevations to match the arrays shape(3,3)- 3 columns\n",
    "\n",
    "#Average against the row\n",
    "np.average(stats_array, axis=1)\n",
    "\n",
    "#This should result in an array with 3 obsevations to match the arrays shape(3,3)- 3 rows"
   ]
  },
  {
   "cell_type": "code",
   "execution_count": 187,
   "metadata": {},
   "outputs": [
    {
     "data": {
      "text/plain": [
       "2.581988897471611"
      ]
     },
     "execution_count": 187,
     "metadata": {},
     "output_type": "execute_result"
    }
   ],
   "source": [
    "#Statistics\n",
    "#Standard Deviation\n",
    "#The numpy std() method, in most circumstances, is called by the syntax np.std()\n",
    "\n",
    "np.std(stats_array)"
   ]
  },
  {
   "cell_type": "code",
   "execution_count": 188,
   "metadata": {},
   "outputs": [
    {
     "data": {
      "text/plain": [
       "array([0.81649658, 0.81649658, 0.81649658])"
      ]
     },
     "execution_count": 188,
     "metadata": {},
     "output_type": "execute_result"
    }
   ],
   "source": [
    "#Aggregating the observations in an array, especially multidimensional one can be tricky\n",
    "#When aggregating the values consider the fact that these arrays have multiple row and columns\n",
    "#A problem could require aggregations to be done against either a row/column and so on\n",
    "\n",
    "#Standard Deviation against the column\n",
    "np.std(stats_array, axis=0)\n",
    "\n",
    "\n",
    "#This should result in an array with 3 obsevations to match the arrays shape(3,3)- 3 columns\n",
    "\n",
    "#Standard Deviation against the row\n",
    "np.std(stats_array, axis=1)\n",
    "\n",
    "#This should result in an array with 3 obsevations to match the arrays shape(3,3)- 3 rows"
   ]
  },
  {
   "cell_type": "markdown",
   "metadata": {},
   "source": [
    "## Array Transformation"
   ]
  },
  {
   "cell_type": "code",
   "execution_count": 215,
   "metadata": {},
   "outputs": [
    {
     "data": {
      "text/plain": [
       "array([[ 0,  1,  2,  3,  4],\n",
       "       [ 5,  6,  7,  8,  9],\n",
       "       [10, 11, 12, 13, 14],\n",
       "       [15, 16, 17, 18, 19]])"
      ]
     },
     "execution_count": 215,
     "metadata": {},
     "output_type": "execute_result"
    }
   ],
   "source": [
    "#Create an arange of 10 observations with the shape of 2 rows and 5 columns\n",
    "\n",
    "trans_array=np.arange(20).reshape(4,5)\n",
    "trans_array"
   ]
  },
  {
   "cell_type": "code",
   "execution_count": 216,
   "metadata": {},
   "outputs": [
    {
     "data": {
      "text/plain": [
       "(4, 5)"
      ]
     },
     "execution_count": 216,
     "metadata": {},
     "output_type": "execute_result"
    }
   ],
   "source": [
    "#Confirm the arrays using shape\n",
    "\n",
    "trans_array.shape"
   ]
  },
  {
   "cell_type": "markdown",
   "metadata": {},
   "source": [
    "### Transpose"
   ]
  },
  {
   "cell_type": "code",
   "execution_count": 227,
   "metadata": {},
   "outputs": [
    {
     "data": {
      "text/plain": [
       "array([[ 0,  5, 10, 15],\n",
       "       [ 1,  6, 11, 16],\n",
       "       [ 2,  7, 12, 17],\n",
       "       [ 3,  8, 13, 18],\n",
       "       [ 4,  9, 14, 19]])"
      ]
     },
     "execution_count": 227,
     "metadata": {},
     "output_type": "execute_result"
    }
   ],
   "source": [
    "#Transpose the array using T\n",
    "#Transpose is the transformation of the shape of the data- rows to columns and vice versa\n",
    "\n",
    "trans_array.T"
   ]
  },
  {
   "cell_type": "markdown",
   "metadata": {},
   "source": [
    "### Ravel"
   ]
  },
  {
   "cell_type": "code",
   "execution_count": 218,
   "metadata": {},
   "outputs": [
    {
     "data": {
      "text/plain": [
       "array([ 0,  1,  2,  3,  4,  5,  6,  7,  8,  9, 10, 11, 12, 13, 14, 15, 16,\n",
       "       17, 18, 19])"
      ]
     },
     "execution_count": 218,
     "metadata": {},
     "output_type": "execute_result"
    }
   ],
   "source": [
    "#Crash the dimensional aspects of the array using the ravel() method\n",
    "#The method changes the arrays shape into a one dimension\n",
    "#This might come in handy when iterating over the array\n",
    "#It might also help when doing data validation on the arrays observations/values\n",
    "\n",
    "trans_array.ravel()\n",
    "\n",
    "#The ravel() method does not necessarily alter the original shape of our variable \n",
    "#Unless the results of the variable are stored in the initial variable (or another)"
   ]
  },
  {
   "cell_type": "markdown",
   "metadata": {},
   "source": [
    "### Reshape"
   ]
  },
  {
   "cell_type": "code",
   "execution_count": 226,
   "metadata": {},
   "outputs": [
    {
     "data": {
      "text/plain": [
       "array([[[ 0,  1,  2,  3,  4],\n",
       "        [ 5,  6,  7,  8,  9]],\n",
       "\n",
       "       [[10, 11, 12, 13, 14],\n",
       "        [15, 16, 17, 18, 19]]])"
      ]
     },
     "execution_count": 226,
     "metadata": {},
     "output_type": "execute_result"
    }
   ],
   "source": [
    "#Reshape the array using the reshape() method\n",
    "#Change it to the shape of a 3 dimension array with two column, two rows \n",
    "\n",
    "trans_array.reshape(2,2,5)\n",
    "\n",
    "#The reshape() method does not necessarily alter the original shape of our variable as well\n",
    "#Unless the results of the variable are stored in the initial variable (or another)"
   ]
  },
  {
   "cell_type": "markdown",
   "metadata": {},
   "source": [
    "### Stacking"
   ]
  },
  {
   "cell_type": "code",
   "execution_count": 232,
   "metadata": {},
   "outputs": [
    {
     "data": {
      "text/plain": [
       "array([[ 8, -1],\n",
       "       [ 4,  9]])"
      ]
     },
     "execution_count": 232,
     "metadata": {},
     "output_type": "execute_result"
    }
   ],
   "source": [
    "#Create a multidimensional array\n",
    "\n",
    "stack_1= np.array([[8, -1], [4,9]])\n",
    "stack_1"
   ]
  },
  {
   "cell_type": "code",
   "execution_count": 233,
   "metadata": {},
   "outputs": [
    {
     "data": {
      "text/plain": [
       "array([[ 0.2 ,  0.9 ],\n",
       "       [-0.02,  0.04]])"
      ]
     },
     "execution_count": 233,
     "metadata": {},
     "output_type": "execute_result"
    }
   ],
   "source": [
    "#Create a second multidimensional array\n",
    "\n",
    "stack_2= np.array([[0.2, 0.9], [-0.02, 0.04]])\n",
    "stack_2"
   ]
  },
  {
   "cell_type": "code",
   "execution_count": 234,
   "metadata": {},
   "outputs": [
    {
     "data": {
      "text/plain": [
       "array([[ 8.  , -1.  ],\n",
       "       [ 4.  ,  9.  ],\n",
       "       [ 0.2 ,  0.9 ],\n",
       "       [-0.02,  0.04]])"
      ]
     },
     "execution_count": 234,
     "metadata": {},
     "output_type": "execute_result"
    }
   ],
   "source": [
    "#Stack the two arrays together vertically\n",
    "\n",
    "np.vstack((stack_1, stack_2))\n",
    "\n",
    "#N/B: The order of the arrays specification matters\n",
    "#Numpy stacks them orderly- first in and first out and so on"
   ]
  },
  {
   "cell_type": "code",
   "execution_count": 235,
   "metadata": {},
   "outputs": [
    {
     "data": {
      "text/plain": [
       "array([[ 8.  , -1.  ,  0.2 ,  0.9 ],\n",
       "       [ 4.  ,  9.  , -0.02,  0.04]])"
      ]
     },
     "execution_count": 235,
     "metadata": {},
     "output_type": "execute_result"
    }
   ],
   "source": [
    "#Stack the two arrays together horizontally\n",
    "\n",
    "np.hstack((stack_1, stack_2))\n",
    "\n",
    "#N/B: The order of the arrays specification matters\n",
    "#Numpy stacks them orderly- first in and first out and so on"
   ]
  },
  {
   "cell_type": "markdown",
   "metadata": {},
   "source": [
    "### Splitting"
   ]
  },
  {
   "cell_type": "code",
   "execution_count": 240,
   "metadata": {},
   "outputs": [
    {
     "data": {
      "text/plain": [
       "[array([[ 8., -1.],\n",
       "        [ 4.,  9.]]), array([[ 0.2 ,  0.9 ],\n",
       "        [-0.02,  0.04]])]"
      ]
     },
     "execution_count": 240,
     "metadata": {},
     "output_type": "execute_result"
    }
   ],
   "source": [
    "#Horizontally stack two arrays and save their observations into a new variable\n",
    "\n",
    "stack_uno= np.array([[8, -1], [4,9]])\n",
    "stack_deux= np.array([[0.2, 0.9], [-0.02, 0.04]])\n",
    "\n",
    "\n",
    "hrzntl_stack=np.hstack((stack_uno, stack_deux))\n",
    "\n",
    "#Horizontal split the array into two using the hsplit() method\n",
    "#The method takes two arguements- the variable/object of choice and the number of splits/arrays\n",
    "\n",
    "np.hsplit(hrzntl_stack, 2)"
   ]
  },
  {
   "cell_type": "code",
   "execution_count": 242,
   "metadata": {},
   "outputs": [
    {
     "data": {
      "text/plain": [
       "[array([[ 8., -1.],\n",
       "        [ 4.,  9.]]), array([[ 0.2 ,  0.9 ],\n",
       "        [-0.02,  0.04]])]"
      ]
     },
     "execution_count": 242,
     "metadata": {},
     "output_type": "execute_result"
    }
   ],
   "source": [
    "#Vertically stack the two arrays and save their observations into a new variable\n",
    "\n",
    "vrtcl_stack=np.vstack((stack_uno, stack_deux))\n",
    "\n",
    "#Vertically split the array into two using the vsplit() method\n",
    "#The method takes two arguements- the variable/object of choice and the number of splits/arrays\n",
    "\n",
    "np.vsplit(vrtcl_stack, 2)"
   ]
  },
  {
   "cell_type": "code",
   "execution_count": null,
   "metadata": {},
   "outputs": [],
   "source": []
  }
 ],
 "metadata": {
  "kernelspec": {
   "display_name": "Python 3",
   "language": "python",
   "name": "python3"
  },
  "language_info": {
   "codemirror_mode": {
    "name": "ipython",
    "version": 3
   },
   "file_extension": ".py",
   "mimetype": "text/x-python",
   "name": "python",
   "nbconvert_exporter": "python",
   "pygments_lexer": "ipython3",
   "version": "3.7.4"
  }
 },
 "nbformat": 4,
 "nbformat_minor": 2
}
